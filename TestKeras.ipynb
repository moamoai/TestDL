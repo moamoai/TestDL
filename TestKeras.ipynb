{
 "cells": [
  {
   "cell_type": "code",
   "execution_count": 1,
   "metadata": {},
   "outputs": [
    {
     "name": "stderr",
     "output_type": "stream",
     "text": [
      "Using TensorFlow backend.\n"
     ]
    }
   ],
   "source": [
    "import os,glob\n",
    "import cv2\n",
    "from keras.utils.np_utils import to_categorical\n",
    "from keras.layers import Activation, Conv2D, Dense, Flatten, MaxPooling2D\n",
    "from keras.models import Sequential\n",
    "import numpy as np"
   ]
  },
  {
   "cell_type": "code",
   "execution_count": 2,
   "metadata": {},
   "outputs": [],
   "source": [
    "input_shape=(32,32,3)\n",
    "SearchName = [\"face\",\"other\"]"
   ]
  },
  {
   "cell_type": "code",
   "execution_count": 3,
   "metadata": {},
   "outputs": [],
   "source": [
    "# 教師データのラベル付け\n",
    "X_train = [] \n",
    "Y_train = [] \n",
    "for i in range(len(SearchName)):\n",
    "    name = SearchName[i]\n",
    "    # img_file_name_list=os.listdir(\"../ImageCapture/train_data/\"+name)\n",
    "    # print(\"Number of {}: {}\".format(name, len(img_file_name_list)))\n",
    "    #for j in range(0,len(img_file_name_list)-1):\n",
    "   \n",
    "    in_dir = \"../ImageCapture/train_data/\"+name+\"/*\"\n",
    "    in_jpg=glob.glob(in_dir)\n",
    "    for j in range(len(in_jpg)):\n",
    "        file_name = in_jpg[i]\n",
    "        #n=os.path.join(\"./FaceEdited/\"+SearchName[i]+\"/\",img_file_name_list[j])  \n",
    "        img = cv2.imread(file_name)\n",
    "        if img is None:\n",
    "            print('image' + str(j) + ':NoImage')\n",
    "            continue    \n",
    "        else:\n",
    "            r,g,b = cv2.split(img)\n",
    "            img = cv2.merge([r,g,b])\n",
    "            X_train.append(img)\n",
    "            Y_train.append(i)\n",
    "X_train=np.array(X_train)\n",
    "# X_test=np.array(X_test)\n",
    "y_train = to_categorical(Y_train)\n",
    "# y_test = to_categorical(Y_test)"
   ]
  },
  {
   "cell_type": "code",
   "execution_count": 4,
   "metadata": {},
   "outputs": [],
   "source": [
    "# モデルの定義\n",
    "model = Sequential()\n",
    "model.add(Conv2D(input_shape=input_shape, filters=32,kernel_size=(3, 3), \n",
    "                 strides=(1, 1), padding=\"same\"))\n",
    "model.add(MaxPooling2D(pool_size=(2, 2)))\n",
    "model.add(Conv2D(filters=32, kernel_size=(3, 3), \n",
    "                 strides=(1, 1), padding=\"same\"))\n",
    "model.add(MaxPooling2D(pool_size=(2, 2)))\n",
    "# model.add(Conv2D(filters=32, kernel_size=(3, 3), \n",
    "#                  strides=(1, 1), padding=\"same\"))\n",
    "# model.add(MaxPooling2D(pool_size=(2, 2)))\n",
    "model.add(Flatten())\n",
    "model.add(Dense(64))\n",
    "model.add(Activation(\"sigmoid\"))\n",
    "model.add(Dense(32))\n",
    "model.add(Activation('sigmoid'))\n",
    "# 分類したい人数を入れる\n",
    "model.add(Dense(len(SearchName)))\n",
    "model.add(Activation('softmax'))\n",
    "\n",
    "# コンパイル\n",
    "model.compile(optimizer='sgd',\n",
    "              loss='categorical_crossentropy',\n",
    "              metrics=['accuracy'])"
   ]
  },
  {
   "cell_type": "code",
   "execution_count": 5,
   "metadata": {},
   "outputs": [],
   "source": [
    "history = model.fit(X_train, y_train, batch_size=70, \n",
    "                    epochs=20, verbose=0, validation_data=(X_train, y_train))\n",
    "#                    epochs=50, verbose=1, validation_data=(X_test, y_test))"
   ]
  },
  {
   "cell_type": "code",
   "execution_count": 6,
   "metadata": {},
   "outputs": [],
   "source": [
    "# import json\n",
    "#with open('history.json', 'w') as f:\n",
    "#    json.dump(history.history, f)\n",
    "#    json.dump(str(history.history), f)\n",
    "import pickle\n",
    "with open('./trainHistoryDict', 'wb') as file_pi:\n",
    "  pickle.dump(history.history, file_pi)"
   ]
  },
  {
   "cell_type": "code",
   "execution_count": 12,
   "metadata": {},
   "outputs": [
    {
     "name": "stdout",
     "output_type": "stream",
     "text": [
      "Model: \"sequential_1\"\n",
      "_________________________________________________________________\n",
      "Layer (type)                 Output Shape              Param #   \n",
      "=================================================================\n",
      "conv2d_1 (Conv2D)            (None, 32, 32, 32)        896       \n",
      "_________________________________________________________________\n",
      "max_pooling2d_1 (MaxPooling2 (None, 16, 16, 32)        0         \n",
      "_________________________________________________________________\n",
      "conv2d_2 (Conv2D)            (None, 16, 16, 32)        9248      \n",
      "_________________________________________________________________\n",
      "max_pooling2d_2 (MaxPooling2 (None, 8, 8, 32)          0         \n",
      "_________________________________________________________________\n",
      "flatten_1 (Flatten)          (None, 2048)              0         \n",
      "_________________________________________________________________\n",
      "dense_1 (Dense)              (None, 64)                131136    \n",
      "_________________________________________________________________\n",
      "activation_1 (Activation)    (None, 64)                0         \n",
      "_________________________________________________________________\n",
      "dense_2 (Dense)              (None, 32)                2080      \n",
      "_________________________________________________________________\n",
      "activation_2 (Activation)    (None, 32)                0         \n",
      "_________________________________________________________________\n",
      "dense_3 (Dense)              (None, 2)                 66        \n",
      "_________________________________________________________________\n",
      "activation_3 (Activation)    (None, 2)                 0         \n",
      "=================================================================\n",
      "Total params: 143,426\n",
      "Trainable params: 143,426\n",
      "Non-trainable params: 0\n",
      "_________________________________________________________________\n",
      "None\n"
     ]
    }
   ],
   "source": [
    "print(model.summary())\n",
    "from keras.utils import plot_model\n",
    "#plot_model(model, to_file='model.png', dpi=64)\n",
    "#plot_model(model, to_file='model_plot.png', show_shapes=True, show_layer_names=True)"
   ]
  },
  {
   "cell_type": "code",
   "execution_count": 13,
   "metadata": {},
   "outputs": [],
   "source": [
    "model.save('my_model.h5')"
   ]
  },
  {
   "cell_type": "code",
   "execution_count": 25,
   "metadata": {},
   "outputs": [],
   "source": [
    "from keras.models import load_model\n",
    "model = load_model('./my_model.h5')"
   ]
  },
  {
   "cell_type": "code",
   "execution_count": 34,
   "metadata": {},
   "outputs": [
    {
     "data": {
      "text/plain": [
       "'./saved_model/model.pbtxt'"
      ]
     },
     "execution_count": 34,
     "metadata": {},
     "output_type": "execute_result"
    }
   ],
   "source": [
    "v = tf.Variable(0, name='my_variable')\n",
    "sess = tf.compat.v1.Session()\n",
    "tf.io.write_graph(sess.graph, './saved_model', 'model.pbtxt')"
   ]
  },
  {
   "cell_type": "code",
   "execution_count": 35,
   "metadata": {},
   "outputs": [
    {
     "name": "stdout",
     "output_type": "stream",
     "text": [
      "WARNING:tensorflow:Error in loading the saved optimizer state. As a result, your model is starting with a freshly initialized optimizer.\n",
      "INFO:tensorflow:Assets written to: saved_model/assets\n"
     ]
    }
   ],
   "source": [
    "pre_model = tf.keras.models.load_model(\"./my_model.h5\")\n",
    "pre_model.save(\"saved_model\")"
   ]
  },
  {
   "cell_type": "code",
   "execution_count": null,
   "metadata": {},
   "outputs": [],
   "source": []
  }
 ],
 "metadata": {
  "kernelspec": {
   "display_name": "Python 3",
   "language": "python",
   "name": "python3"
  },
  "language_info": {
   "codemirror_mode": {
    "name": "ipython",
    "version": 3
   },
   "file_extension": ".py",
   "mimetype": "text/x-python",
   "name": "python",
   "nbconvert_exporter": "python",
   "pygments_lexer": "ipython3",
   "version": "3.7.6"
  }
 },
 "nbformat": 4,
 "nbformat_minor": 4
}

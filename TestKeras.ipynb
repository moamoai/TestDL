{
 "cells": [
  {
   "cell_type": "code",
   "execution_count": 1,
   "metadata": {},
   "outputs": [
    {
     "name": "stderr",
     "output_type": "stream",
     "text": [
      "Using TensorFlow backend.\n"
     ]
    }
   ],
   "source": [
    "import os,glob\n",
    "import cv2\n",
    "from keras.utils.np_utils import to_categorical\n",
    "from keras.layers import Activation, Conv2D, Dense, Flatten, MaxPooling2D\n",
    "from keras.models import Sequential\n",
    "import numpy as np"
   ]
  },
  {
   "cell_type": "code",
   "execution_count": 2,
   "metadata": {},
   "outputs": [],
   "source": [
    "input_shape=(32,32,3)\n",
    "SearchName = [\"face\",\"other\"]"
   ]
  },
  {
   "cell_type": "code",
   "execution_count": 3,
   "metadata": {},
   "outputs": [],
   "source": [
    "# 教師データのラベル付け\n",
    "X_train = [] \n",
    "Y_train = [] \n",
    "for i in range(len(SearchName)):\n",
    "    name = SearchName[i]\n",
    "    # img_file_name_list=os.listdir(\"../ImageCapture/train_data/\"+name)\n",
    "    # print(\"Number of {}: {}\".format(name, len(img_file_name_list)))\n",
    "    #for j in range(0,len(img_file_name_list)-1):\n",
    "   \n",
    "    in_dir = \"../ImageCapture/train_data/\"+name+\"/*\"\n",
    "    in_jpg=glob.glob(in_dir)\n",
    "    for j in range(len(in_jpg)):\n",
    "        file_name = in_jpg[i]\n",
    "        #n=os.path.join(\"./FaceEdited/\"+SearchName[i]+\"/\",img_file_name_list[j])  \n",
    "        img = cv2.imread(file_name)\n",
    "        if img is None:\n",
    "            print('image' + str(j) + ':NoImage')\n",
    "            continue    \n",
    "        else:\n",
    "            r,g,b = cv2.split(img)\n",
    "            img = cv2.merge([r,g,b])\n",
    "            X_train.append(img)\n",
    "            Y_train.append(i)\n",
    "X_train=np.array(X_train)\n",
    "# X_test=np.array(X_test)\n",
    "y_train = to_categorical(Y_train)\n",
    "# y_test = to_categorical(Y_test)"
   ]
  },
  {
   "cell_type": "code",
   "execution_count": 4,
   "metadata": {},
   "outputs": [],
   "source": [
    "# モデルの定義\n",
    "model = Sequential()\n",
    "model.add(Conv2D(input_shape=input_shape, filters=32,kernel_size=(3, 3), \n",
    "                 strides=(1, 1), padding=\"same\"))\n",
    "model.add(MaxPooling2D(pool_size=(2, 2)))\n",
    "model.add(Conv2D(filters=32, kernel_size=(3, 3), \n",
    "                 strides=(1, 1), padding=\"same\"))\n",
    "model.add(MaxPooling2D(pool_size=(2, 2)))\n",
    "model.add(Conv2D(filters=32, kernel_size=(3, 3), \n",
    "                 strides=(1, 1), padding=\"same\"))\n",
    "model.add(MaxPooling2D(pool_size=(2, 2)))\n",
    "model.add(Flatten())\n",
    "model.add(Dense(64))\n",
    "model.add(Activation(\"sigmoid\"))\n",
    "model.add(Dense(32))\n",
    "model.add(Activation('sigmoid'))\n",
    "# 分類したい人数を入れる\n",
    "model.add(Dense(len(SearchName)))\n",
    "model.add(Activation('softmax'))\n",
    "\n",
    "# コンパイル\n",
    "model.compile(optimizer='sgd',\n",
    "              loss='categorical_crossentropy',\n",
    "              metrics=['accuracy'])"
   ]
  },
  {
   "cell_type": "code",
   "execution_count": 5,
   "metadata": {},
   "outputs": [
    {
     "name": "stdout",
     "output_type": "stream",
     "text": [
      "Train on 31 samples, validate on 31 samples\n",
      "Epoch 1/20\n",
      "31/31 [==============================] - 1s 20ms/step - loss: 0.6993 - accuracy: 0.3548 - val_loss: 0.6938 - val_accuracy: 0.3548\n",
      "Epoch 2/20\n",
      "31/31 [==============================] - 0s 693us/step - loss: 0.6938 - accuracy: 0.3548 - val_loss: 0.6508 - val_accuracy: 1.0000\n",
      "Epoch 3/20\n",
      "31/31 [==============================] - 0s 618us/step - loss: 0.6508 - accuracy: 1.0000 - val_loss: 0.6397 - val_accuracy: 1.0000\n",
      "Epoch 4/20\n",
      "31/31 [==============================] - 0s 618us/step - loss: 0.6397 - accuracy: 1.0000 - val_loss: 0.6347 - val_accuracy: 1.0000\n",
      "Epoch 5/20\n",
      "31/31 [==============================] - 0s 598us/step - loss: 0.6347 - accuracy: 1.0000 - val_loss: 0.6300 - val_accuracy: 0.6452\n",
      "Epoch 6/20\n",
      "31/31 [==============================] - 0s 525us/step - loss: 0.6300 - accuracy: 0.6452 - val_loss: 0.6256 - val_accuracy: 0.6452\n",
      "Epoch 7/20\n",
      "31/31 [==============================] - 0s 633us/step - loss: 0.6256 - accuracy: 0.6452 - val_loss: 0.6219 - val_accuracy: 0.6452\n",
      "Epoch 8/20\n",
      "31/31 [==============================] - 0s 569us/step - loss: 0.6219 - accuracy: 0.6452 - val_loss: 0.6187 - val_accuracy: 0.6452\n",
      "Epoch 9/20\n",
      "31/31 [==============================] - 0s 538us/step - loss: 0.6187 - accuracy: 0.6452 - val_loss: 0.6157 - val_accuracy: 0.6452\n",
      "Epoch 10/20\n",
      "31/31 [==============================] - 0s 535us/step - loss: 0.6157 - accuracy: 0.6452 - val_loss: 0.6131 - val_accuracy: 0.6452\n",
      "Epoch 11/20\n",
      "31/31 [==============================] - 0s 524us/step - loss: 0.6131 - accuracy: 0.6452 - val_loss: 0.6106 - val_accuracy: 0.6452\n",
      "Epoch 12/20\n",
      "31/31 [==============================] - 0s 549us/step - loss: 0.6106 - accuracy: 0.6452 - val_loss: 0.6084 - val_accuracy: 0.6452\n",
      "Epoch 13/20\n",
      "31/31 [==============================] - 0s 538us/step - loss: 0.6084 - accuracy: 0.6452 - val_loss: 0.6063 - val_accuracy: 0.6452\n",
      "Epoch 14/20\n",
      "31/31 [==============================] - 0s 543us/step - loss: 0.6063 - accuracy: 0.6452 - val_loss: 0.6043 - val_accuracy: 0.6452\n",
      "Epoch 15/20\n",
      "31/31 [==============================] - 0s 573us/step - loss: 0.6043 - accuracy: 0.6452 - val_loss: 0.6025 - val_accuracy: 0.6452\n",
      "Epoch 16/20\n",
      "31/31 [==============================] - 0s 520us/step - loss: 0.6025 - accuracy: 0.6452 - val_loss: 0.6008 - val_accuracy: 0.6452\n",
      "Epoch 17/20\n",
      "31/31 [==============================] - 0s 519us/step - loss: 0.6008 - accuracy: 0.6452 - val_loss: 0.5992 - val_accuracy: 0.6452\n",
      "Epoch 18/20\n",
      "31/31 [==============================] - 0s 527us/step - loss: 0.5992 - accuracy: 0.6452 - val_loss: 0.5976 - val_accuracy: 0.6452\n",
      "Epoch 19/20\n",
      "31/31 [==============================] - 0s 538us/step - loss: 0.5976 - accuracy: 0.6452 - val_loss: 0.5961 - val_accuracy: 0.6452\n",
      "Epoch 20/20\n",
      "31/31 [==============================] - 0s 523us/step - loss: 0.5961 - accuracy: 0.6452 - val_loss: 0.5947 - val_accuracy: 0.6452\n"
     ]
    }
   ],
   "source": [
    "history = model.fit(X_train, y_train, batch_size=70, \n",
    "                    epochs=20, verbose=1, validation_data=(X_train, y_train))\n",
    "#                    epochs=50, verbose=1, validation_data=(X_test, y_test))"
   ]
  },
  {
   "cell_type": "code",
   "execution_count": 1,
   "metadata": {},
   "outputs": [
    {
     "ename": "NameError",
     "evalue": "name 'history' is not defined",
     "output_type": "error",
     "traceback": [
      "\u001b[0;31m---------------------------------------------------------------------------\u001b[0m",
      "\u001b[0;31mNameError\u001b[0m                                 Traceback (most recent call last)",
      "\u001b[0;32m<ipython-input-1-3a9fed8c691d>\u001b[0m in \u001b[0;36m<module>\u001b[0;34m\u001b[0m\n\u001b[0;32m----> 1\u001b[0;31m \u001b[0mlen\u001b[0m\u001b[0;34m(\u001b[0m\u001b[0mhistory\u001b[0m\u001b[0;34m.\u001b[0m\u001b[0mhistory\u001b[0m\u001b[0;34m[\u001b[0m\u001b[0;34m\"accuracy\"\u001b[0m\u001b[0;34m]\u001b[0m\u001b[0;34m)\u001b[0m\u001b[0;34m\u001b[0m\u001b[0;34m\u001b[0m\u001b[0m\n\u001b[0m\u001b[1;32m      2\u001b[0m \u001b[0macc\u001b[0m \u001b[0;34m=\u001b[0m \u001b[0mhistory\u001b[0m\u001b[0;34m.\u001b[0m\u001b[0mhistory\u001b[0m\u001b[0;34m[\u001b[0m\u001b[0;34m\"accuracy\"\u001b[0m\u001b[0;34m]\u001b[0m\u001b[0;34m\u001b[0m\u001b[0;34m\u001b[0m\u001b[0m\n\u001b[1;32m      3\u001b[0m \u001b[0macc\u001b[0m\u001b[0;34m\u001b[0m\u001b[0;34m\u001b[0m\u001b[0m\n",
      "\u001b[0;31mNameError\u001b[0m: name 'history' is not defined"
     ]
    }
   ],
   "source": [
    "len(history.history[\"accuracy\"])\n",
    "acc = history.history[\"accuracy\"]\n",
    "acc"
   ]
  },
  {
   "cell_type": "code",
   "execution_count": null,
   "metadata": {},
   "outputs": [],
   "source": []
  },
  {
   "cell_type": "code",
   "execution_count": null,
   "metadata": {},
   "outputs": [],
   "source": [
    "# %matplotlib inline\n",
    "# import numpy as np\n",
    "# import matplotlib.pyplot as plt\n",
    "x=np.linspace(0, 20)\n",
    "type(x)\n",
    "test = [x*0.1 for x in range(20)]\n",
    "plt.plot(test) # , label=\"acc\", ls=\"-\", marker=\"o\")\n",
    "#plt.plot(acc)\n",
    "#plt.plot(history.history[\"val_accuracy\"], label=\"val_acc\", ls=\"-\", marker=\"x\")\n",
    "plt.ylabel(\"accuracy\")\n",
    "plt.xlabel(\"epoch\")\n",
    "plt.legend(loc=\"best\")\n",
    "# plt.show()"
   ]
  },
  {
   "cell_type": "code",
   "execution_count": null,
   "metadata": {},
   "outputs": [],
   "source": []
  },
  {
   "cell_type": "code",
   "execution_count": null,
   "metadata": {},
   "outputs": [],
   "source": []
  },
  {
   "cell_type": "code",
   "execution_count": null,
   "metadata": {},
   "outputs": [],
   "source": []
  }
 ],
 "metadata": {
  "kernelspec": {
   "display_name": "Python 3",
   "language": "python",
   "name": "python3"
  },
  "language_info": {
   "codemirror_mode": {
    "name": "ipython",
    "version": 3
   },
   "file_extension": ".py",
   "mimetype": "text/x-python",
   "name": "python",
   "nbconvert_exporter": "python",
   "pygments_lexer": "ipython3",
   "version": "3.7.6"
  }
 },
 "nbformat": 4,
 "nbformat_minor": 4
}

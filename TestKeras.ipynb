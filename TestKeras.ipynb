{
 "cells": [
  {
   "cell_type": "code",
   "execution_count": 1,
   "metadata": {},
   "outputs": [
    {
     "name": "stderr",
     "output_type": "stream",
     "text": [
      "Using TensorFlow backend.\n"
     ]
    }
   ],
   "source": [
    "import os,glob\n",
    "import cv2\n",
    "from keras.utils.np_utils import to_categorical\n",
    "from keras.layers import Activation, Conv2D, Dense, Flatten, MaxPooling2D\n",
    "from keras.models import Sequential\n",
    "import numpy as np"
   ]
  },
  {
   "cell_type": "code",
   "execution_count": 2,
   "metadata": {},
   "outputs": [],
   "source": [
    "input_shape=(32,32,3)\n",
    "SearchName = [\"face\",\"other\"]"
   ]
  },
  {
   "cell_type": "code",
   "execution_count": 3,
   "metadata": {},
   "outputs": [],
   "source": [
    "# 教師データのラベル付け\n",
    "X_train = [] \n",
    "Y_train = [] \n",
    "for i in range(len(SearchName)):\n",
    "    name = SearchName[i]\n",
    "    # img_file_name_list=os.listdir(\"../ImageCapture/train_data/\"+name)\n",
    "    # print(\"Number of {}: {}\".format(name, len(img_file_name_list)))\n",
    "    #for j in range(0,len(img_file_name_list)-1):\n",
    "   \n",
    "    in_dir = \"../ImageCapture/train_data/\"+name+\"/*\"\n",
    "    in_jpg=glob.glob(in_dir)\n",
    "    for j in range(len(in_jpg)):\n",
    "        file_name = in_jpg[i]\n",
    "        #n=os.path.join(\"./FaceEdited/\"+SearchName[i]+\"/\",img_file_name_list[j])  \n",
    "        img = cv2.imread(file_name)\n",
    "        if img is None:\n",
    "            print('image' + str(j) + ':NoImage')\n",
    "            continue    \n",
    "        else:\n",
    "            r,g,b = cv2.split(img)\n",
    "            img = cv2.merge([r,g,b])\n",
    "            X_train.append(img)\n",
    "            Y_train.append(i)\n",
    "X_train=np.array(X_train)\n",
    "# X_test=np.array(X_test)\n",
    "y_train = to_categorical(Y_train)\n",
    "# y_test = to_categorical(Y_test)"
   ]
  },
  {
   "cell_type": "code",
   "execution_count": 4,
   "metadata": {},
   "outputs": [],
   "source": [
    "# モデルの定義\n",
    "model = Sequential()\n",
    "model.add(Conv2D(input_shape=input_shape, filters=32,kernel_size=(3, 3), \n",
    "                 strides=(1, 1), padding=\"same\"))\n",
    "model.add(MaxPooling2D(pool_size=(2, 2)))\n",
    "model.add(Conv2D(filters=32, kernel_size=(3, 3), \n",
    "                 strides=(1, 1), padding=\"same\"))\n",
    "model.add(MaxPooling2D(pool_size=(2, 2)))\n",
    "# model.add(Conv2D(filters=32, kernel_size=(3, 3), \n",
    "#                  strides=(1, 1), padding=\"same\"))\n",
    "# model.add(MaxPooling2D(pool_size=(2, 2)))\n",
    "model.add(Flatten())\n",
    "model.add(Dense(64))\n",
    "model.add(Activation(\"sigmoid\"))\n",
    "model.add(Dense(32))\n",
    "model.add(Activation('sigmoid'))\n",
    "# 分類したい人数を入れる\n",
    "model.add(Dense(len(SearchName)))\n",
    "model.add(Activation('softmax'))\n",
    "\n",
    "# コンパイル\n",
    "model.compile(optimizer='sgd',\n",
    "              loss='categorical_crossentropy',\n",
    "              metrics=['accuracy'])"
   ]
  },
  {
   "cell_type": "code",
   "execution_count": 5,
   "metadata": {},
   "outputs": [],
   "source": [
    "history = model.fit(X_train, y_train, batch_size=70, \n",
    "                    epochs=20, verbose=0, validation_data=(X_train, y_train))\n",
    "#                    epochs=50, verbose=1, validation_data=(X_test, y_test))"
   ]
  },
  {
   "cell_type": "code",
   "execution_count": 6,
   "metadata": {},
   "outputs": [],
   "source": [
    "# import json\n",
    "#with open('history.json', 'w') as f:\n",
    "#    json.dump(history.history, f)\n",
    "#    json.dump(str(history.history), f)\n",
    "import pickle\n",
    "with open('./trainHistoryDict', 'wb') as file_pi:\n",
    "  pickle.dump(history.history, file_pi)"
   ]
  },
  {
   "cell_type": "code",
   "execution_count": null,
   "metadata": {},
   "outputs": [],
   "source": []
  },
  {
   "cell_type": "code",
   "execution_count": null,
   "metadata": {},
   "outputs": [],
   "source": []
  },
  {
   "cell_type": "code",
   "execution_count": null,
   "metadata": {},
   "outputs": [],
   "source": []
  }
 ],
 "metadata": {
  "kernelspec": {
   "display_name": "Python 3",
   "language": "python",
   "name": "python3"
  },
  "language_info": {
   "codemirror_mode": {
    "name": "ipython",
    "version": 3
   },
   "file_extension": ".py",
   "mimetype": "text/x-python",
   "name": "python",
   "nbconvert_exporter": "python",
   "pygments_lexer": "ipython3",
   "version": "3.7.6"
  }
 },
 "nbformat": 4,
 "nbformat_minor": 4
}

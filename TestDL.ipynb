{
 "cells": [
  {
   "cell_type": "code",
   "execution_count": 7,
   "metadata": {},
   "outputs": [],
   "source": [
    "from TestDL import *"
   ]
  },
  {
   "cell_type": "code",
   "execution_count": 8,
   "metadata": {},
   "outputs": [],
   "source": [
    "net = Network(4, 20, 3)\n",
    "net.init_weights(-1.0, 1.0)"
   ]
  },
  {
   "cell_type": "code",
   "execution_count": 9,
   "metadata": {},
   "outputs": [],
   "source": [
    "net.load_iris()"
   ]
  },
  {
   "cell_type": "code",
   "execution_count": 10,
   "metadata": {},
   "outputs": [
    {
     "name": "stdout",
     "output_type": "stream",
     "text": [
      "1 / 50 epoch. [ error: 66.66666666666667 ]\n",
      "2 / 50 epoch. [ error: 66.66666666666667 ]\n",
      "3 / 50 epoch. [ error: 66.66666666666667 ]\n",
      "4 / 50 epoch. [ error: 66.0 ]\n",
      "5 / 50 epoch. [ error: 40.0 ]\n",
      "6 / 50 epoch. [ error: 33.33333333333334 ]\n",
      "7 / 50 epoch. [ error: 33.33333333333334 ]\n",
      "8 / 50 epoch. [ error: 33.33333333333334 ]\n",
      "9 / 50 epoch. [ error: 33.33333333333334 ]\n",
      "10 / 50 epoch. [ error: 33.33333333333334 ]\n",
      "11 / 50 epoch. [ error: 33.33333333333334 ]\n",
      "12 / 50 epoch. [ error: 33.33333333333334 ]\n",
      "13 / 50 epoch. [ error: 33.33333333333334 ]\n",
      "14 / 50 epoch. [ error: 33.33333333333334 ]\n",
      "15 / 50 epoch. [ error: 33.33333333333334 ]\n",
      "16 / 50 epoch. [ error: 33.33333333333334 ]\n",
      "17 / 50 epoch. [ error: 33.33333333333334 ]\n",
      "18 / 50 epoch. [ error: 33.33333333333334 ]\n",
      "19 / 50 epoch. [ error: 33.33333333333334 ]\n",
      "20 / 50 epoch. [ error: 33.33333333333334 ]\n",
      "21 / 50 epoch. [ error: 33.33333333333334 ]\n",
      "22 / 50 epoch. [ error: 33.33333333333334 ]\n",
      "23 / 50 epoch. [ error: 33.33333333333334 ]\n",
      "24 / 50 epoch. [ error: 33.33333333333334 ]\n",
      "25 / 50 epoch. [ error: 33.33333333333334 ]\n",
      "26 / 50 epoch. [ error: 33.33333333333334 ]\n",
      "27 / 50 epoch. [ error: 33.33333333333334 ]\n",
      "28 / 50 epoch. [ error: 33.33333333333334 ]\n",
      "29 / 50 epoch. [ error: 32.66666666666667 ]\n",
      "30 / 50 epoch. [ error: 32.66666666666667 ]\n",
      "31 / 50 epoch. [ error: 32.0 ]\n",
      "32 / 50 epoch. [ error: 32.0 ]\n",
      "33 / 50 epoch. [ error: 32.0 ]\n",
      "34 / 50 epoch. [ error: 32.0 ]\n",
      "35 / 50 epoch. [ error: 32.0 ]\n",
      "36 / 50 epoch. [ error: 32.0 ]\n",
      "37 / 50 epoch. [ error: 32.0 ]\n",
      "38 / 50 epoch. [ error: 31.33333333333333 ]\n",
      "39 / 50 epoch. [ error: 28.666666666666657 ]\n",
      "40 / 50 epoch. [ error: 27.33333333333333 ]\n",
      "41 / 50 epoch. [ error: 26.0 ]\n",
      "42 / 50 epoch. [ error: 24.0 ]\n",
      "43 / 50 epoch. [ error: 24.0 ]\n",
      "44 / 50 epoch. [ error: 24.0 ]\n",
      "45 / 50 epoch. [ error: 24.0 ]\n",
      "46 / 50 epoch. [ error: 24.0 ]\n",
      "47 / 50 epoch. [ error: 23.33333333333333 ]\n",
      "48 / 50 epoch. [ error: 22.0 ]\n",
      "49 / 50 epoch. [ error: 20.66666666666667 ]\n",
      "50 / 50 epoch. [ error: 20.66666666666667 ]\n"
     ]
    },
    {
     "data": {
      "image/png": "[encoded data removed]",
      "text/plain": [
       "<Figure size 432x288 with 1 Axes>"
      ]
     },
     "metadata": {
      "needs_background": "light"
     },
     "output_type": "display_data"
    }
   ],
   "source": [
    "net.train(50)"
   ]
  },
  {
   "cell_type": "code",
   "execution_count": 12,
   "metadata": {},
   "outputs": [
    {
     "name": "stdout",
     "output_type": "stream",
     "text": [
      "Accuracy: 79.33333333333333%\n"
     ]
    }
   ],
   "source": [
    "acc = net.test()\n",
    "print('Accuracy: ' + str(acc) + '%')"
   ]
  },
  {
   "cell_type": "code",
   "execution_count": null,
   "metadata": {},
   "outputs": [],
   "source": []
  },
  {
   "cell_type": "code",
   "execution_count": null,
   "metadata": {},
   "outputs": [],
   "source": []
  }
 ],
 "metadata": {
  "kernelspec": {
   "display_name": "Python 3",
   "language": "python",
   "name": "python3"
  },
  "language_info": {
   "codemirror_mode": {
    "name": "ipython",
    "version": 3
   },
   "file_extension": ".py",
   "mimetype": "text/x-python",
   "name": "python",
   "nbconvert_exporter": "python",
   "pygments_lexer": "ipython3",
   "version": "3.7.6"
  }
 },
 "nbformat": 4,
 "nbformat_minor": 4
}
